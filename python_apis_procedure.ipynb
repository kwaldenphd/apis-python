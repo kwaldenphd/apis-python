{
  "cells": [
    {
      "cell_type": "markdown",
      "metadata": {
        "id": "view-in-github",
        "colab_type": "text"
      },
      "source": [
        "<a href=\"https://colab.research.google.com/github/kwaldenphd/apis-python/blob/main/python_apis_procedure.ipynb\" target=\"_parent\"><img src=\"https://colab.research.google.com/assets/colab-badge.svg\" alt=\"Open In Colab\"/></a>"
      ]
    },
    {
      "cell_type": "markdown",
      "source": [
        "# Working With APIs in Python\n",
        "\n",
        "<a href=\"http://creativecommons.org/licenses/by-nc/4.0/\" rel=\"license\"><img style=\"border-width: 0;\" src=\"https://i.creativecommons.org/l/by-nc/4.0/88x31.png\" alt=\"Creative Commons License\" /></a>\n",
        "This tutorial is licensed under a <a href=\"http://creativecommons.org/licenses/by-nc/4.0/\" rel=\"license\">Creative Commons Attribution-NonCommercial 4.0 International License</a>."
      ],
      "metadata": {
        "id": "yuFRa9xHdv5N"
      }
    },
    {
      "cell_type": "markdown",
      "source": [
        "## Lab Goals\n",
        "\n",
        "This lab provides an overview of web APIs and how to construct an API call in Python. It also covers how to work with the results of an API call in the Python programming environment, and write that data to a JSON file.\n",
        "\n",
        "By the end of this lab, students will be able to:\n",
        "- Describe the basic components and functionality of a web API\n",
        "- Write a basic API call in Python\n",
        "- Work with the results of an API call in Python\n",
        "- Write the results of an API call to a JSON file\n",
        "\n",
        "<table>\n",
        " <tr><td>\n",
        "<img src=\"https://elearn.southampton.ac.uk/wp-content/blogs.dir/sites/64/2021/04/PanPan.png\" alt=\"Panopto logo\" width=\"50\"/></td>\n",
        "<td><a href=\"https://notredame.hosted.panopto.com/Panopto/Pages/Viewer.aspx?pid=da5b8c14-e546-44fd-8f65-af36014781ce\">Lecture/live coding playlist</a></td>\n",
        "  </tr>\n",
        "  </table>"
      ],
      "metadata": {
        "id": "oi8xDNDRdw_L"
      }
    },
    {
      "cell_type": "markdown",
      "source": [
        "## Acknowledgements\n",
        "\n",
        "Elements of this lab procedure are adapted from:\n",
        "\n",
        "- Eric Matthes, Chapter 17 \"Working With APIs\" from [*Python Crash Course*](https://nostarch.com/pythoncrashcourse2e) (No Starch Press, 2019): 359-375\n",
        "- Charles Severance, Chapter 13 \"Using Web Services\" from [*Python for Informatics*](https://www.py4e.com/book.php) (2009): 155-168\n",
        "- Wes McKinney, Chapter 6 \"Data Loading, Storage, and File Formats\" from [*Python for Data Analysis*](https://www.oreilly.com/library/view/python-for-data/9781491957653/) (O'Reilly, 2018): 169-193\n",
        "- Patrick Smyth, \"Creating Web APIs with Python and Flask,\" *The Programming Historian* 7 (2018), https://doi.org/10.46430/phen0072.\n",
        "- Ritvik Kharkar, [\"Getting Census Data in 5 Easy Steps\"](https://towardsdatascience.com/getting-census-data-in-5-easy-steps-a08eeb63995d) *Towards Data Science* (29 April 2019)."
      ],
      "metadata": {
        "id": "EtDNxuHRdy8q"
      }
    },
    {
      "cell_type": "markdown",
      "source": [
        "# Lab notebook template\n",
        "\n",
        "[Click here](https://colab.research.google.com/drive/1BMhsfL6kJ9DvEM2SWfKrBsibvIUNkv9Q) to access the lab procedure as a Jupyter Notebook (Google Colab, ND Users)\n"
      ],
      "metadata": {
        "id": "49-q6vKEd1QK"
      }
    },
    {
      "cell_type": "markdown",
      "source": [
        "# What are APIs and how do they work\n",
        "\n",
        "<table>\n",
        " <tr><td>\n",
        "<img src=\"https://elearn.southampton.ac.uk/wp-content/blogs.dir/sites/64/2021/04/PanPan.png\" alt=\"Panopto logo\" width=\"50\"/></td>\n",
        "<td><a href=\"https://notredame.hosted.panopto.com/Panopto/Pages/Viewer.aspx?id=25c97f96-ac6b-45d4-90f6-ae300138a023\">What are web APIs & how do they work</a></td>\n",
        "  </tr>\n",
        "  </table>\n",
        "\n",
        "<p align=\"center\"><a href=\"https://github.com/kwaldenphd/apis-python/blob/main/Figure_1.jpg?raw=true\"><img class=\"aligncenter\" src=\"https://github.com/kwaldenphd/apis-python/blob/main/Figure_1.jpg?raw=true\" /></a></p>\n",
        "\n",
        "For a brief introduction to APIs, view Danielle Thé, [\"API's Explained (with LEGO)\"](https://youtu.be/qW1qhb8r8xI), *YouTube Video* (1 November 2016).\n",
        "\n",
        "There are many different kinds of Application Programming Interfaces (APIs). In general, an API is the part of a computer program designed to be used or manipulated by another computer program. We can contrast this with interacting with a computer program via the user interface, which most often is a type of graphical user interface (GUI).\n",
        "\n",
        "We're focusing on web APIs, which allow for information or functionality to be manipulated by other programs via the internet. For example, with [Twitter’s web API](https://developer.twitter.com/en/docs/twitter-api/getting-started/about-twitter-api), you can write a Python program to perform tasks such as favoriting tweets or collecting tweet metadata.\n",
        "\n",
        "Other large-scale data repositories tend to make data available via an API.\n",
        "- The U.S. National Archives and Records Administration (NARA) makes the National Archives catalog, Executive Orders, and photographic image content available [via an API](https://www.archives.gov/developer#toc--datasets).\n",
        "- The Smithsonian Institution allows open access to museum collection metadata [via an API](https://www.si.edu/openaccess/devtools).\n",
        "- The U.S. Library of Congress provides access to digital collection metadata, digitized historical newspaper images, public radio and television programs, and World Digital Library collections [via APIs](https://labs.loc.gov/lc-for-robots/). \n",
        "- The U.S. Census Bureau makes a wide range of public data available [via API](https://www.census.gov/data/developers/data-sets.html).\n",
        "\n",
        "APIs let us bring a live data connection into a programming environment and interact or work with it based on the format and protocols established as part of the API.\n",
        "\n",
        "We can imagine a scenario in which you wanted to build an application or visualization based on the location of [Iowa Department of Transportation's nearly 901 snow plows](https://public-iowadot.opendata.arcgis.com/pages/winter). Downloading a static dataset isn't going to work for this specific use case--you need a live data feed with up-to-date information. This is the beauty of APIs.\n",
        "- [Link to IDOT's plow truck data](https://public-iowadot.opendata.arcgis.com/datasets/IowaDOT::snow-plow-truck-location-avl-iowa-dot/about)"
      ],
      "metadata": {
        "id": "yeD1StyUI70p"
      }
    },
    {
      "cell_type": "markdown",
      "source": [
        "## API terminology\n",
        "\n",
        "Some terminology that goes along with APIs.\n",
        "- ***HTTP (HyperText Transfer Protocol)***: primary means of communicating or transferring data on the world wide web. \n",
        "- ***URL (Uniform Resource Locator)***: an address or location information for information on the web. A URL describes the location of a specific resource.\n",
        "- ***JSON (JavaScript Object Notation)***: plain-text data storage format\n",
        "- ***REST (REpresentational State Transfer)***: best practices for implementing APIs. APIs that follow these principles are called REST APIs.\n"
      ],
      "metadata": {
        "id": "FNLIceGII9JK"
      }
    },
    {
      "cell_type": "markdown",
      "source": [
        "# What can data from an API look like?\n",
        "\n",
        "<table>\n",
        " <tr><td>\n",
        "<img src=\"https://elearn.southampton.ac.uk/wp-content/blogs.dir/sites/64/2021/04/PanPan.png\" alt=\"Panopto logo\" width=\"50\"/></td>\n",
        "<td><a href=\"https://notredame.hosted.panopto.com/Panopto/Pages/Viewer.aspx?id=56b8d9a2-beea-4fc7-8fdc-ae30013904f7\">API Data</a></td>\n",
        "  </tr>\n",
        "  </table>\n",
        "\n",
        "Navigate to https://api.github.com/search/repositories?q=language:python&sort=stars in a web browser. We're looking at public projects hosted on GitHub that are written in the Python programming language.\n",
        "\n",
        "Select the option to Expand All items, or click on the drop-down arrows to expand the data at this URL.\n",
        "```JSON\n",
        "{\n",
        "  \"total_count\": 6343245,\n",
        "  \"incomplete_results\": true,\n",
        "  \"items\": [\n",
        "    {\n",
        "      \"id\": 123458551,\n",
        "      \"node_id\": \"MDEwOlJlcG9zaXRvcnkxMjM0NTg1NTE=\",\n",
        "      \"name\": \"Python-100-Days\",\n",
        "      \"full_name\": \"jackfrued/Python-100-Days\",\n",
        "      \"private\": false,\n",
        "      \"owner\": {\n",
        "        \"login\": \"jackfrued\",\n",
        "        \"id\": 7474657,\n",
        "        \"node_id\": \"MDQ6VXNlcjc0NzQ2NTc=\",\n",
        "        \"avatar_url\": \"https://avatars0.githubusercontent.com/u/7474657?v=4\",\n",
        "        \"gravatar_id\": \"\",\n",
        "        \"url\": \"https://api.github.com/users/jackfrued\",\n",
        "        \"html_url\": \"https://github.com/jackfrued\",\n",
        "        \"followers_url\": \"https://api.github.com/users/jackfrued/followers\",\n",
        "        \"following_url\": \"https://api.github.com/users/jackfrued/following{/other_user}\",\n",
        "        \"gists_url\": \"https://api.github.com/users/jackfrued/gists{/gist_id}\",\n",
        "        \"starred_url\": \"https://api.github.com/users/jackfrued/starred{/owner}{/repo}\",\n",
        "        \"subscriptions_url\": \"https://api.github.com/users/jackfrued/subscriptions\",\n",
        "        \"organizations_url\": \"https://api.github.com/users/jackfrued/orgs\",\n",
        "        \"repos_url\": \"https://api.github.com/users/jackfrued/repos\",\n",
        "        \"events_url\": \"https://api.github.com/users/jackfrued/events{/privacy}\",\n",
        "        \"received_events_url\": \"https://api.github.com/users/jackfrued/received_events\",\n",
        "        \"type\": \"User\",\n",
        "        \"site_admin\": false\n",
        "      },\n",
        "      \"html_url\": \"https://github.com/jackfrued/Python-100-Days\",\n",
        "      \"description\": \"Python - 100天从新手到大师\",\n",
        "      \"fork\": false,\n",
        "      \"url\": \"https://api.github.com/repos/jackfrued/Python-100-Days\",\n",
        "      \"forks_url\": \"https://api.github.com/repos/jackfrued/Python-100-Days/forks\",\n",
        "      \"keys_url\": \"https://api.github.com/repos/jackfrued/Python-100-Days/keys{/key_id}\",\n",
        "      \"collaborators_url\": \"https://api.github.com/repos/jackfrued/Python-100-Days/collaborators{/collaborator}\",\n",
        "      \"teams_url\": \"https://api.github.com/repos/jackfrued/Python-100-Days/teams\",\n",
        "      \"hooks_url\": \"https://api.github.com/repos/jackfrued/Python-100-Days/hooks\",\n",
        "      \"issue_events_url\": \"https://api.github.com/repos/jackfrued/Python-100-Days/issues/events{/number}\",\n",
        "      \"events_url\": \"https://api.github.com/repos/jackfrued/Python-100-Days/events\",\n",
        "      \"assignees_url\": \"https://api.github.com/repos/jackfrued/Python-100-Days/assignees{/user}\",\n",
        "      \"branches_url\": \"https://api.github.com/repos/jackfrued/Python-100-Days/branches{/branch}\",\n",
        "      \"tags_url\": \"https://api.github.com/repos/jackfrued/Python-100-Days/tags\",\n",
        "      \"blobs_url\": \"https://api.github.com/repos/jackfrued/Python-100-Days/git/blobs{/sha}\",\n",
        "      \"git_tags_url\": \"https://api.github.com/repos/jackfrued/Python-100-Days/git/tags{/sha}\",\n",
        "      \"git_refs_url\": \"https://api.github.com/repos/jackfrued/Python-100-Days/git/refs{/sha}\",\n",
        "      \"trees_url\": \"https://api.github.com/repos/jackfrued/Python-100-Days/git/trees{/sha}\",\n",
        "      \"statuses_url\": \"https://api.github.com/repos/jackfrued/Python-100-Days/statuses/{sha}\",\n",
        "      \"languages_url\": \"https://api.github.com/repos/jackfrued/Python-100-Days/languages\",\n",
        "      \"stargazers_url\": \"https://api.github.com/repos/jackfrued/Python-100-Days/stargazers\",\n",
        "      \"contributors_url\": \"https://api.github.com/repos/jackfrued/Python-100-Days/contributors\",\n",
        "      \"subscribers_url\": \"https://api.github.com/repos/jackfrued/Python-100-Days/subscribers\",\n",
        "      \"subscription_url\": \"https://api.github.com/repos/jackfrued/Python-100-Days/subscription\",\n",
        "      \"commits_url\": \"https://api.github.com/repos/jackfrued/Python-100-Days/commits{/sha}\",\n",
        "      \"git_commits_url\": \"https://api.github.com/repos/jackfrued/Python-100-Days/git/commits{/sha}\",\n",
        "      \"comments_url\": \"https://api.github.com/repos/jackfrued/Python-100-Days/comments{/number}\",\n",
        "      \"issue_comment_url\": \"https://api.github.com/repos/jackfrued/Python-100-Days/issues/comments{/number}\",\n",
        "      \"contents_url\": \"https://api.github.com/repos/jackfrued/Python-100-Days/contents/{+path}\",\n",
        "      \"compare_url\": \"https://api.github.com/repos/jackfrued/Python-100-Days/compare/{base}...{head}\",\n",
        "      \"merges_url\": \"https://api.github.com/repos/jackfrued/Python-100-Days/merges\",\n",
        "      \"archive_url\": \"https://api.github.com/repos/jackfrued/Python-100-Days/{archive_format}{/ref}\",\n",
        "      \"downloads_url\": \"https://api.github.com/repos/jackfrued/Python-100-Days/downloads\",\n",
        "      \"issues_url\": \"https://api.github.com/repos/jackfrued/Python-100-Days/issues{/number}\",\n",
        "      \"pulls_url\": \"https://api.github.com/repos/jackfrued/Python-100-Days/pulls{/number}\",\n",
        "      \"milestones_url\": \"https://api.github.com/repos/jackfrued/Python-100-Days/milestones{/number}\",\n",
        "      \"notifications_url\": \"https://api.github.com/repos/jackfrued/Python-100-Days/notifications{?since,all,participating}\",\n",
        "      \"labels_url\": \"https://api.github.com/repos/jackfrued/Python-100-Days/labels{/name}\",\n",
        "      \"releases_url\": \"https://api.github.com/repos/jackfrued/Python-100-Days/releases{/id}\",\n",
        "      \"deployments_url\": \"https://api.github.com/repos/jackfrued/Python-100-Days/deployments\",\n",
        "      \"created_at\": \"2018-03-01T16:05:52Z\",\n",
        "      \"updated_at\": \"2020-12-16T16:09:01Z\",\n",
        "      \"pushed_at\": \"2020-12-16T03:01:52Z\",\n",
        "      \"git_url\": \"git://github.com/jackfrued/Python-100-Days.git\",\n",
        "      \"ssh_url\": \"git@github.com:jackfrued/Python-100-Days.git\",\n",
        "      \"clone_url\": \"https://github.com/jackfrued/Python-100-Days.git\",\n",
        "      \"svn_url\": \"https://github.com/jackfrued/Python-100-Days\",\n",
        "      \"homepage\": \"\",\n",
        "      \"size\": 272084,\n",
        "      \"stargazers_count\": 97101,\n",
        "      \"watchers_count\": 97101,\n",
        "      \"language\": \"Python\",\n",
        "      \"has_issues\": true,\n",
        "      \"has_projects\": true,\n",
        "      \"has_downloads\": true,\n",
        "      \"has_wiki\": true,\n",
        "      \"has_pages\": false,\n",
        "      \"forks_count\": 38952,\n",
        "      \"mirror_url\": null,\n",
        "      \"archived\": false,\n",
        "      \"disabled\": false,\n",
        "      \"open_issues_count\": 513,\n",
        "      \"license\": null,\n",
        "      \"forks\": 38952,\n",
        "      \"open_issues\": 513,\n",
        "      \"watchers\": 97101,\n",
        "      \"default_branch\": \"master\",\n",
        "      \"score\": 1.0\n",
        "    }\n",
        " ```\n",
        "\n",
        "<blockquote>Q1: Describe what you see in this sample JSON. What are some of the name-value pairs? What can you tell about how the data is structured? What do we think this data might look like when we bring it into Python? You ARE NOT required to have code as part of this answer.</blockquote>\n",
        "\n",
        "For more detail & background on JSON data structures: [Elements of Computing I \"Structured Data\" lab](https://github.com/kwaldenphd/python-structured-data#javascript-object-notation)"
      ],
      "metadata": {
        "id": "_g4SqDsHI_fZ"
      }
    },
    {
      "cell_type": "markdown",
      "source": [
        "# Making an API call in Python\n",
        "\n",
        "<table>\n",
        " <tr><td>\n",
        "<img src=\"https://elearn.southampton.ac.uk/wp-content/blogs.dir/sites/64/2021/04/PanPan.png\" alt=\"Panopto logo\" width=\"50\"/></td>\n",
        "<td><a href=\"https://notredame.hosted.panopto.com/Panopto/Pages/Viewer.aspx?id=302b1945-2956-42be-b24b-ae300138993a\">Making an API call</a></td>\n",
        "  </tr>\n",
        "  </table>\n",
        "\n",
        "First, we use the `requests` module to send HTTP requests (i.e. request data via the world wide web) using Python. The HTTP request returns a response object that includes whatever data is returned as part of the API call.\n",
        "- [Requests: HTTP for Humans documentation](https://requests.readthedocs.io/en/master/)\n",
        "- [Python documentation on `requests` module](https://pypi.org/project/requests/)\n",
        "- [Python Requests Module, W3 Schools](https://www.w3schools.com/python/module_requests.asp)\n",
        "\n",
        "The `requests` module includes a range of methods that let us interact with elements of the API.\n",
        "\n",
        "Method | Description\n",
        "--- | ---\n",
        "`delete(url, args)` | Sends as DELETE request to the specified URL\n",
        "`get(url, params, args)` | Sends a GET request to the specified URL\n",
        "`head(url, args)` | Sends a HEAD request to the specified URL\n",
        "`patch(url, data, args)` | Sends a PATCH request to the specified URL\n",
        "`post(url, data, json, args)` | Sends a POST request to the specified URL\n",
        "`put(url, data, args)` | Sends a PUT request to the specified URL\n",
        "`request(method, url, args)` | Sends a request of the specified method to the specified URL\n",
        "\n",
        "A very basic example of the `requests` module in action.\n",
        "\n",
        "\n",
        "```Python\n",
        "# import requests module\n",
        "import requests\n",
        "\n",
        "# store URL\n",
        "x = requests.get('url')\n",
        "\n",
        "# print URL  text\n",
        "print(x.text)\n",
        "```\n",
        "\n",
        "Let's look at how we would call the GitHub API in Python."
      ],
      "metadata": {
        "id": "NTwFXyUwJA8P"
      }
    },
    {
      "cell_type": "code",
      "source": [
        "# import requests module\n",
        "import requests\n",
        "\n",
        "# import json module\n",
        "import json\n",
        "\n",
        "# store API url\n",
        "url = 'https://api.github.com/search/repositories?q=language:python&sort=stars'\n",
        "\n",
        "# assign the headers- not always necessary, but something we have to do with the GitHub API\n",
        "headers = {'Accept': 'application/vnd.github.v3+json'}\n",
        "\n",
        "# assign the requests method\n",
        "r = requests.get(url, headers=headers)\n",
        "\n",
        "# print a status update for the requests command\n",
        "print(f\"Status code: {r.status_code}\")\n",
        "\n",
        "# store API response to variable\n",
        "response_dict = r.json()\n",
        "\n",
        "# process results\n",
        "print(response_dict.keys())"
      ],
      "metadata": {
        "colab": {
          "base_uri": "https://localhost:8080/"
        },
        "id": "2k4rL2ibJFG8",
        "outputId": "8c7feabb-4488-4863-ad08-347b1307c44a"
      },
      "execution_count": null,
      "outputs": [
        {
          "output_type": "stream",
          "name": "stdout",
          "text": [
            "Status code: 200\n",
            "dict_keys(['total_count', 'incomplete_results', 'items'])\n"
          ]
        }
      ]
    },
    {
      "cell_type": "markdown",
      "source": [
        "The first `print()` statement returns a status message for the `requests.get()` API call. Once we know the API call is working, we can go ahead and request the JSON data available via the API. Then we can store that JSON data as a Python dictionary.\n",
        "\n",
        "<blockquote>Q2: Describe how a web API works in your own words. What are the core components and how do they work together or interact?</blockquote>\n",
        "\n",
        "# Working With the API Response in Python\n",
        "\n",
        "<table>\n",
        " <tr><td>\n",
        "<img src=\"https://elearn.southampton.ac.uk/wp-content/blogs.dir/sites/64/2021/04/PanPan.png\" alt=\"Panopto logo\" width=\"50\"/></td>\n",
        "<td><a href=\"https://notredame.hosted.panopto.com/Panopto/Pages/Viewer.aspx?id=921f41ea-ad5f-40d3-90f3-ae3001389583\">Working with the API response</a></td>\n",
        "  </tr>\n",
        "  </table>\n",
        "\n",
        "If our API call has been successful, we now have JSON or XML (extensible markup language) data in Python.\n",
        "\n",
        "- For more on JSON: \n",
        "  * [general info](https://www.w3schools.com/whatis/whatis_json.asp)\n",
        "  * [in Python](https://www.w3schools.com/python/python_json.asp)\n",
        "  * [Elements of Computing I \"Structured Data\" lab](https://github.com/kwaldenphd/python-structured-data#javascript-object-notation)\n",
        "- For more on XML: \n",
        "  * [general info](https://www.w3schools.com/xml/xml_whatis.asp)\n",
        "  * [in Python](https://realpython.com/python-xml-parser/)\n",
        "\n",
        "Now we can start to explore the data returned by the API in Python. Let's say we wanted to know more about these Python repositories."
      ],
      "metadata": {
        "id": "SHZqYDusJI-0"
      }
    },
    {
      "cell_type": "code",
      "source": [
        "# print the total number of repositories\n",
        "print(f\"Total repositories: {response_dict['total_count']}\")\n",
        "\n",
        "# store list of dictionaries with information about GitHub repositories\n",
        "repo_dicts = response_dict['items']\n",
        "\n",
        "# print length of repo_dicts\n",
        "print(f\"Repositories returned: {len(repo_dicts)}\")"
      ],
      "metadata": {
        "id": "R0XaD-VJJKVQ"
      },
      "execution_count": null,
      "outputs": []
    },
    {
      "cell_type": "code",
      "source": [
        "# select first repository using index\n",
        "repo_dict = repo_dicts[0]\n",
        "\n",
        "# print number of keys in individual repository dictionary\n",
        "print(f\"\\nKeys: {len(repo_dict)}\")\n",
        "\n",
        "# print all keys in the dictionary using a for loop to iterate over keys in the dictionary\n",
        "for key in sorted(repo_dict.keys()):\n",
        "  print(key)"
      ],
      "metadata": {
        "id": "d5MqOdFZJLyG"
      },
      "execution_count": null,
      "outputs": []
    },
    {
      "cell_type": "markdown",
      "source": [
        "Now that we know what keys are in this dictionary, we can pull out the values for some of these keys."
      ],
      "metadata": {
        "id": "774d-NVqJMhx"
      }
    },
    {
      "cell_type": "code",
      "source": [
        "# select first dictionary for first repository using index\n",
        "repo_dict = repo_dicts[0]\n",
        "\n",
        "# print header information before key values return\n",
        "print(\"\\nSelected information about first repository:\")\n",
        "\n",
        "# print repo name\n",
        "print(f\"Name: {repo_dict['name']}\")\n",
        "\n",
        "# print repository owner information\n",
        "print(f\"Owner: {repo_dict['owner']['login']}\")\n",
        "\n",
        "# print repository number of stars\n",
        "print(f\"Stars: {repo_dict['stargazers_count']}\")\n",
        "\n",
        "# print project URL\n",
        "print(f\"Repository URL: {repo_dict['html_url']}\")\n",
        "\n",
        "# print repository creation date\n",
        "print(f\"Created: {repo_dict['created_at']}\")\n",
        "\n",
        "# print repository last update time\n",
        "print(f\"Updated: {repo_dict['updated_at']}\")\n",
        "\n",
        "# print repository description\n",
        "print(f\"Description: {repo_dict['description']}\")"
      ],
      "metadata": {
        "id": "nT2KMDhfJNra"
      },
      "execution_count": null,
      "outputs": []
    },
    {
      "cell_type": "markdown",
      "source": [
        "Visit [GitHub's REST API documentation](https://docs.github.com/en/free-pro-team@latest/rest) to learn more about its API. The example covered in the lab procedure focuses on using the GitHub API to access search results. [Link to more info](https://docs.github.com/en/search-github/searching-on-github/searching-for-repositories#search-by-topic) on that specific topic.\n",
        "\n",
        "# From API to JSON file\n",
        "\n",
        "<table>\n",
        " <tr><td>\n",
        "<img src=\"https://elearn.southampton.ac.uk/wp-content/blogs.dir/sites/64/2021/04/PanPan.png\" alt=\"Panopto logo\" width=\"50\"/></td>\n",
        "<td><a href=\"https://notredame.hosted.panopto.com/Panopto/Pages/Viewer.aspx?id=a95a51c8-0991-4012-a353-ae30013891fe\">From API Response to JSON File</a></td>\n",
        "  </tr>\n",
        "  </table>\n",
        "\n",
        "In many situations, we would stay within a programming environment when working with the data returned by an API call. But let's say you wanted to write the data returned by an API call to a JSON or XML file. We can write the JSON data loaded as a Python dictionary to a JSON file using `json.dump()`."
      ],
      "metadata": {
        "id": "o2zz1bHBJO6I"
      }
    },
    {
      "cell_type": "code",
      "source": [
        "# select first dictionary for first repository using index\n",
        "repo_dict = repo_dicts[0]\n",
        "\n",
        "# create new JSON file and write repo_dict object to file\n",
        "with open('output.json', 'w') as json_file:\n",
        "  json.dump(repo_dict, json_file)"
      ],
      "metadata": {
        "id": "uS9LjEBlJPzm"
      },
      "execution_count": null,
      "outputs": []
    },
    {
      "cell_type": "markdown",
      "source": [
        "If you're feeling rusty or need a refresher on file methods in Python: [Elements of Computing I \"Structured Data\" lab](https://github.com/kwaldenphd/python-structured-data#file-io--access-modes)\n",
        "\n",
        "<blockquote>Q3: Build code + comments that accomplish the following tasks:\n",
        "<ol type=\"a\">\n",
        "<li>Modify the GitHub search result URL and write an API call from Python</li>\n",
        "<ul><li>A few options here- you could <a href=\"https://docs.github.com/en/search-github/searching-on-github/searching-topics\">search by topics</a> and change the parameters for creation date, number of results, etc.</li>\n",
        "<li>Sample code for this task is included in the previous section of the lab.</li></ul>\n",
        "<li>Select a single repository from the API return</li>\n",
        "<ul><li>Sample code for this task is included in the previous section of the lab.</li></ul>\n",
        "<li>Write the API return to a JSON file</li>\n",
        "<ul><li>Sample code for this task is included in the previous section of the lab.</li></ul>\n",
        "</ol>\n",
        "</blockquote>"
      ],
      "metadata": {
        "id": "vKruEeOTJ820"
      }
    },
    {
      "cell_type": "markdown",
      "source": [
        "# Example: U.S. Census Bureau Data\n",
        "\n",
        "<table>\n",
        " <tr><td>\n",
        "<img src=\"https://elearn.southampton.ac.uk/wp-content/blogs.dir/sites/64/2021/04/PanPan.png\" alt=\"Panopto logo\" width=\"50\"/></td>\n",
        "<td><a href=\"https://notredame.hosted.panopto.com/Panopto/Pages/Viewer.aspx?id=980b9a8e-29a5-4f07-900d-ae3001388e8a\">U.S. Census Bureau Data & Q4</a></td>\n",
        "  </tr>\n",
        "  </table>\n",
        "\n",
        "<p align=\"center\"><a href=\"https://github.com/kwaldenphd/apis-python/blob/main/Figure_2.png?raw=true\"><img class=\"aligncenter\" src=\"https://github.com/kwaldenphd/apis-python/blob/main/Figure_2.png?raw=true\" /></a></p>\n",
        "\n",
        "Let's say we want to work with the U.S. Census Bureau's API. First step is to navigate to the Census Bureau's [\"About\"](https://www.census.gov/data/developers/about.html) page for developers and click the \"Request a Key\" icon. Once you've completed the \"Request a Key\" form, you should receive an API key via email. This will look like a long string of letters and numbers.\n",
        "\n",
        "The next step is to identify which Census Bureau dataset you want to work with. A wide range of datasets are available via the Census Bureau's API, ranging from the facets of data from the American Community Survey to data from the Decennial Census. Explore the list of options ([\"Available APIs\"](https://www.census.gov/data/developers/data-sets.html)) and decide on a specific dataset.\n",
        "\n",
        "For the purposes of this example, let's work with [five-year data from the American Community survey](https://www.census.gov/data/developers/data-sets/acs-5year.html) to find a recent population count by state.\n",
        "\n",
        "The first thing we want to do is explore the documentation available for this dataset so we know what might (or should) return from the API call.\n",
        "- [Link to documentation for 2019 subset of this dataset](https://www.census.gov/data/developers/data-sets/acs-5year.html)\n",
        "\n",
        "As you can see from the documentation, there are MANY variables and data points contained in this dataset. For this example, let's stick to the original question of wanting a recent population count by state. From looking at the documentation, we know the URL for the API call will start with `https://api.census.gov/data/2017/acs/acs5?key=[API_KEY]`\n",
        "\n",
        "And from looking at the [full list of variables](https://api.census.gov/data/2019/acs/acs5/variables.html), we can tell the variable name for \"Total Population is `B01003_001E`. So the API call for the \"Total Population\" variable will look like `https://api.census.gov/data/2017/acs/acs5?key=[API_KEY]&get=B01003_001E`. This API call will return total population for all geographies in the ACS dataset.\n",
        "\n",
        "We can modify the API call to only return \"Total Population\" for the all states in the dataset. The modified API call will look like `https://api.census.gov/data/2017/acs/acs5?key=[API_KEY]&get=B01003_001E&for=state:*`. You can paste this URL into your browser (with your API key) to check to make sure the API call is using the correct URL.\n",
        "  * No brackets around the API key.\n",
        "\n",
        "Check out the [Census Bureau's API documentation and sample queries](https://www.census.gov/data/developers/guidance/api-user-guide/query-examples.html) to learn more about how to customize your API call.\n",
        "\n",
        "Now to bring this into Python."
      ],
      "metadata": {
        "id": "ijT_knAEKHuQ"
      }
    },
    {
      "cell_type": "code",
      "source": [
        "# import requests module\n",
        "import requests\n",
        "\n",
        "# import json module\n",
        "import json\n",
        "\n",
        "# set census API key\n",
        "apiKey = \"YOUR_API_KEY\"\n",
        "\n",
        "# construct API URL\n",
        "calledAPI = 'https://api.census.gov/data/2017/acs/acs5?key=' + apiKey + '&get=NAME,B01003_001E&for=state:*'\n",
        "\n",
        "# call the API and collect the response\n",
        "response = requests.get(calledAPI)\n",
        "\n",
        "# load response into JSON object, removing first element which is field labels\n",
        "formattedResponse = json.loads(response.text)[1:]\n",
        "# Note: If you receive an error like '''JSONDecodeError: Expecting value: line 2 column 1 (char 1)''', \n",
        "# toggle between double quotes (\" \") and single quotes (' ') in calledAPI\n",
        "\n",
        "# write that JSON object to a file\n",
        "with open('output.json', 'w') as json_file:\n",
        "  json.dump(formattedResponse, json_file)"
      ],
      "metadata": {
        "id": "71lh3Z09KJmg"
      },
      "execution_count": null,
      "outputs": []
    },
    {
      "cell_type": "markdown",
      "source": [
        "<blockquote>Q4: Describe your experience working with the Census Bureau API. What was rewarding? What was challenging? How did you solve those challenges? What do we think this data might look like when we bring it into Python, or what are some things we could do with this data in Python?</blockquote>\n",
        "\n",
        "<blockquote>OPTIONAL: Modify the API call to access another subset of data. Include code + comments.</blockquote>"
      ],
      "metadata": {
        "id": "FWA-gxu4KL7H"
      }
    },
    {
      "cell_type": "markdown",
      "source": [
        "# Additional Lab Notebook Questions\n",
        "\n",
        "<table>\n",
        " <tr><td>\n",
        "<img src=\"https://elearn.southampton.ac.uk/wp-content/blogs.dir/sites/64/2021/04/PanPan.png\" alt=\"Panopto logo\" width=\"50\"/></td>\n",
        "<td><a href=\"https://notredame.hosted.panopto.com/Panopto/Pages/Viewer.aspx?id=387c80d5-2327-4371-877b-ae3001388b66\">Additional Lab Notebook Questions</a></td>\n",
        "  </tr>\n",
        "  </table>\n",
        "\n",
        "Q5A: Select a specific dataset available via an API.\n",
        "\n",
        "A few sources that might get you started:\n",
        "- [GitHub repository with extensive inventory of free public APIs](https://github.com/public-apis/public-apis)\n",
        "- [U.S. National Archives and Records Administration, NARA](https://www.archives.gov/developer#toc--datasets)\n",
        "- [Smithsonian Institution](https://www.si.edu/openaccess/devtools)\n",
        "- [Library of Congress](https://labs.loc.gov/lc-for-robots/)\n",
        "- [U.S. Census Bureau](https://www.census.gov/data/developers/data-sets.html)\n",
        "- [The Sports DB](https://www.thesportsdb.com/api.php)\n",
        "\n",
        "Q5B: View the API source in a browser. Describe what you are seeing. How can we start to make sense of this data using available documentation?\n",
        "\n",
        "Q6: Construct an API call in Python. Include code + comments.\n",
        "\n",
        "Q7: Take a subset of the data and write to a JSON file. Include code + comments.\n",
        "\n",
        "OPTIONAL: JSON's nested structure can't always be mapped onto a tabular (table-like) data structure. But `pandas` does include a `pd.read_json` function if you want to experiment with creating a `DataFrame` from JSON data.\n",
        "- [`pandas` documentation for `pd.read_json`](https://pandas.pydata.org/docs/reference/api/pandas.read_json.html)\n",
        "- [alternate method that converts JSON to dictionary and uses `pd.DataFrame.from_dict()` method](https://www.kite.com/python/answers/how-to-convert-a-json-string-to-a-pandas-dataframe-in-python)"
      ],
      "metadata": {
        "id": "tnZ-6nviKNXY"
      }
    },
    {
      "cell_type": "markdown",
      "source": [
        "# Lab Notebook Questions\n",
        "\n",
        "[Click here](https://colab.research.google.com/drive/1YF9TZcaZIE61I3TgyMm8jf1_AzWmaHGv?usp=sharing) to access the lab notebook template as a Jupyter Notebook (Google Colab, ND Users)\n",
        "\n",
        "Q1: Describe what you see in this sample JSON. What are some of the name-value pairs? What can you tell about how the data is structured? What do we think this data might look like when we bring it into Python? You ARE NOT required to have code as part of this answer.\n",
        "\n",
        "Q2: Describe how a web API works in your own words. What are the core components and how do they work together or interact?\n",
        "\n",
        "Q3: Build code + comments that accomplish the following tasks:\n",
        "<ol type=\"a\">\n",
        "<li>Modify the GitHub search result URL and write an API call from Python</li>\n",
        "<ul><li>A few options here- you could <a href=\"https://docs.github.com/en/search-github/searching-on-github/searching-topics\">search by topics</a> and change the parameters for creation date, number of results, etc.</li>\n",
        "<li>Sample code for this task is included in the previous section of the lab.</li></ul>\n",
        "<li>Select a single repository from the API return</li>\n",
        "<ul><li>Sample code for this task is included in the previous section of the lab.</li></ul>\n",
        "<li>Write the API return to a JSON file</li>\n",
        "<ul><li>Sample code for this task is included in the previous section of the lab.</li></ul>\n",
        "</ol>\n",
        "\n",
        "Q4: Describe your experience working with the Census Bureau API. What was rewarding? What was challenging? How did you solve those challenges? What do we think this data might look like when we bring it into Python, or what are some things we could do with this data in Python?\n",
        "\n",
        "OPTIONAL: Modify the API call to access another subset of data. Include code + comments.\n",
        "\n",
        "Q5A: Select a specific dataset available via an API.\n",
        "\n",
        "A few sources that might get you started:\n",
        "- [GitHub repository with extensive inventory of free public APIs](https://github.com/public-apis/public-apis)\n",
        "- [U.S. National Archives and Records Administration, NARA](https://www.archives.gov/developer#toc--datasets)\n",
        "- [Smithsonian Institution](https://www.si.edu/openaccess/devtools)\n",
        "- [Library of Congress](https://labs.loc.gov/lc-for-robots/)\n",
        "- [U.S. Census Bureau](https://www.census.gov/data/developers/data-sets.html)\n",
        "- [The Sports DB](https://www.thesportsdb.com/api.php)\n",
        "\n",
        "Q5B: View the API source in a browser. Describe what you are seeing. How can we start to make sense of this data using available documentation?\n",
        "\n",
        "Q6: Construct an API call in Python. Include code + comments.\n",
        "\n",
        "Q7: Take a subset of the data and write to a JSON file. Include code + comments.\n",
        "\n",
        "OPTIONAL: JSON's nested structure can't always be mapped onto a tabular (table-like) data structure. But `pandas` does include a `pd.read_json` function if you want to experiment with creating a `DataFrame` from JSON data.\n",
        "- [`pandas` documentation for `pd.read_json`](https://pandas.pydata.org/docs/reference/api/pandas.read_json.html)\n",
        "- [alternate method that converts JSON to dictionary and uses `pd.DataFrame.from_dict()` method](https://www.kite.com/python/answers/how-to-convert-a-json-string-to-a-pandas-dataframe-in-python)"
      ],
      "metadata": {
        "id": "M08jBpWcKQvB"
      }
    }
  ],
  "metadata": {
    "kernelspec": {
      "display_name": "Python 3",
      "language": "python",
      "name": "python3"
    },
    "language_info": {
      "codemirror_mode": {
        "name": "ipython",
        "version": 3
      },
      "file_extension": ".py",
      "mimetype": "text/x-python",
      "name": "python",
      "nbconvert_exporter": "python",
      "pygments_lexer": "ipython3",
      "version": "3.9.1"
    },
    "colab": {
      "provenance": [],
      "toc_visible": true,
      "include_colab_link": true
    }
  },
  "nbformat": 4,
  "nbformat_minor": 0
}