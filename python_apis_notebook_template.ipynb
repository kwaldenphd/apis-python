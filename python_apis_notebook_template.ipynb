{
  "nbformat": 4,
  "nbformat_minor": 0,
  "metadata": {
    "colab": {
      "name": "python-apis-notebook-template.ipynb",
      "provenance": [],
      "toc_visible": true,
      "authorship_tag": "ABX9TyO3ipkQKPbLVvfrCnuyOUGs",
      "include_colab_link": true
    },
    "kernelspec": {
      "name": "python3",
      "display_name": "Python 3"
    },
    "language_info": {
      "name": "python"
    }
  },
  "cells": [
    {
      "cell_type": "markdown",
      "metadata": {
        "id": "view-in-github",
        "colab_type": "text"
      },
      "source": [
        "<a href=\"https://colab.research.google.com/github/kwaldenphd/apis-python/blob/main/python_apis_notebook_template.ipynb\" target=\"_parent\"><img src=\"https://colab.research.google.com/assets/colab-badge.svg\" alt=\"Open In Colab\"/></a>"
      ]
    },
    {
      "cell_type": "markdown",
      "source": [
        "# Web APIs in Python (EoC)\n",
        "\n",
        "Student name: **Enter your name here** (double click to edit)\n",
        "\n",
        "Net ID: **Enter your NetID here** (double click to edit)"
      ],
      "metadata": {
        "id": "6RGvka06V5bz"
      }
    },
    {
      "cell_type": "markdown",
      "source": [
        "## Lab Notebook Questions"
      ],
      "metadata": {
        "id": "YMLv_23-ZQ56"
      }
    },
    {
      "cell_type": "markdown",
      "source": [
        "### **Q1: What are we seeing in the browser or in this sample JSON? Some of the specific fields (or name-value pairs)? What do we think this data might look like when we bring it into Python, or what are some things we could do with this data in Python?**"
      ],
      "metadata": {
        "id": "TU8VdOenZTLj"
      }
    },
    {
      "cell_type": "markdown",
      "source": [
        "**Answer Q1:** Your answer here (double click to edit)\n",
        "\n"
      ],
      "metadata": {
        "id": "ZRftVHWIWMrC"
      }
    },
    {
      "cell_type": "code",
      "source": [
        "# space for Q1 code (if needed, double click to edit)"
      ],
      "metadata": {
        "id": "bPz7Og6agS7C"
      },
      "execution_count": null,
      "outputs": []
    },
    {
      "cell_type": "markdown",
      "source": [
        "### **Q2: Describe how a web API works in your own words.**"
      ],
      "metadata": {
        "id": "HV3bt5MIWSi0"
      }
    },
    {
      "cell_type": "markdown",
      "source": [
        "**Answer Q2:** Your answer here (double click to edit)\n"
      ],
      "metadata": {
        "id": "RVyNsiziWVDc"
      }
    },
    {
      "cell_type": "code",
      "source": [
        "# space for Q2 code (if needed, double click to edit)"
      ],
      "metadata": {
        "id": "d5Ox8k4igPOk"
      },
      "execution_count": null,
      "outputs": []
    },
    {
      "cell_type": "markdown",
      "source": [
        "### <strong>Q3: Build code + comments that accomplish the following tasks:\n",
        "<ol type=\"a\">\n",
        "<li>Modify the GitHub search result URL and write an API call from Python</li>\n",
        "<ul><li>A few options here- you could <a href=\"https://docs.github.com/en/search-github/searching-on-github/searching-topics\">search by topics</a> and change the parameters for creation date, number of results, etc.</li>\n",
        "<li>Sample code for this task is included in the previous section of the lab.</li></ul>\n",
        "<li>Select a single repository from the API return</li>\n",
        "<ul><li>Sample code for this task is included in the previous section of the lab.</li></ul>\n",
        "<li>Write the API return to a JSON file</li>\n",
        "<ul><li>Sample code for this task is included in the previous section of the lab.</li></ul>\n",
        "</ol></strong>"
      ],
      "metadata": {
        "id": "gJtDv7WcWas7"
      }
    },
    {
      "cell_type": "markdown",
      "source": [
        "**Answer Q3:** Space for Q3 narrative answer, if needed (double click to edit)"
      ],
      "metadata": {
        "id": "HpF4MFkLWgEJ"
      }
    },
    {
      "cell_type": "code",
      "source": [
        "# space for Q3 code (double click to edit)\n",
        "\n",
        "# part a: API call\n",
        "\n",
        "# part b: select single repository\n",
        "\n",
        "# part c: write API return to JSON file"
      ],
      "metadata": {
        "id": "NDwjNfFJWclC"
      },
      "execution_count": null,
      "outputs": []
    },
    {
      "cell_type": "markdown",
      "source": [
        "### **Q4: Describe your experience working with the Census Bureau API. What was rewarding? What was challenging? How did you solve those challenges? What do we think this data might look like when we bring it into Python, or what are some things we could do with this data in Python**"
      ],
      "metadata": {
        "id": "TVI8kzV3WkRK"
      }
    },
    {
      "cell_type": "markdown",
      "source": [
        "**Answer Q4:** Your answer here (double click to edit)"
      ],
      "metadata": {
        "id": "oEhVg-x4Wx7t"
      }
    },
    {
      "cell_type": "code",
      "source": [
        "# space for Q4 code (if needed, double click to edit)"
      ],
      "metadata": {
        "id": "bV2_fLDbgUiM"
      },
      "execution_count": null,
      "outputs": []
    },
    {
      "cell_type": "markdown",
      "source": [
        "### **OPTIONAL: Modify the API call to access another subset of data. Include code + comments.**"
      ],
      "metadata": {
        "id": "2G1LwkGcg5JZ"
      }
    },
    {
      "cell_type": "markdown",
      "source": [
        "### <strong>Q5: Select a specific dataset available via an API.\n",
        "\n",
        "A few sources that might get you started:\n",
        "- [GitHub repository with extensive inventory of free public APIs](https://github.com/public-apis/public-apis)\n",
        "- [U.S. National Archives and Records Administration, NARA](https://www.archives.gov/developer#toc--datasets)\n",
        "- [Smithsonian Institution](https://www.si.edu/openaccess/devtools)\n",
        "- [Library of Congress](https://labs.loc.gov/lc-for-robots/)\n",
        "- [U.S. Census Bureau](https://www.census.gov/data/developers/data-sets.html)\n",
        "- [The Sports DB](https://www.thesportsdb.com/api.php)\n",
        "\n",
        "View the API source in a browser. What are you seeing? How can we start to make sense of this data using available documentation?</strong>"
      ],
      "metadata": {
        "id": "2eyXkA7TW2AK"
      }
    },
    {
      "cell_type": "markdown",
      "source": [
        "**Answer Q5:** Your answer here (double click to edit)"
      ],
      "metadata": {
        "id": "NGzdCS8iXHyo"
      }
    },
    {
      "cell_type": "code",
      "source": [
        "# space for Q5 code (if needed, double click to edit)"
      ],
      "metadata": {
        "id": "23bIye_ugb6d"
      },
      "execution_count": null,
      "outputs": []
    },
    {
      "cell_type": "markdown",
      "source": [
        "### **Q6: Construct an API call in Python. Include code + comments.**"
      ],
      "metadata": {
        "id": "X-u4W5wSXLnH"
      }
    },
    {
      "cell_type": "markdown",
      "source": [
        "**Answer Q6:** Space for Q6 narrative answer, if needed (double click to edit)"
      ],
      "metadata": {
        "id": "98uQ_cvTggrx"
      }
    },
    {
      "cell_type": "code",
      "source": [
        "# space for Q6 code (double click to edit)"
      ],
      "metadata": {
        "id": "ckpTaPf8gh9_"
      },
      "execution_count": null,
      "outputs": []
    },
    {
      "cell_type": "markdown",
      "source": [
        "### **Q7: Take a subset of the data and write to a JSON file. Include code + comments.**"
      ],
      "metadata": {
        "id": "tjzD3uMsXU-J"
      }
    },
    {
      "cell_type": "markdown",
      "source": [
        "**Answer Q7:** Space for Q7 narrative answer, if needed (double click to edit)"
      ],
      "metadata": {
        "id": "0KkuXRy3gn6C"
      }
    },
    {
      "cell_type": "code",
      "source": [
        "# space for Q7 code (double click to edit)"
      ],
      "metadata": {
        "id": "E8hYRpIvgp3b"
      },
      "execution_count": null,
      "outputs": []
    },
    {
      "cell_type": "markdown",
      "source": [
        "### <strong>OPTIONAL: JSON's nested structure can't always be mapped onto a tabular (table-like) data structure. But `pandas` does include a `pd.read_json` function if you want to experiment with creating a `DataFrame` from JSON data.\n",
        "- [`pandas` documentation for `pd.read_json`](https://pandas.pydata.org/docs/reference/api/pandas.read_json.html)\n",
        "- [alternate method that converts JSON to dictionary and uses `pd.DataFrame.from_dict()` method](https://www.kite.com/python/answers/how-to-convert-a-json-string-to-a-pandas-dataframe-in-python) </strong>"
      ],
      "metadata": {
        "id": "iXdTQLOFXc0N"
      }
    }
  ]
}